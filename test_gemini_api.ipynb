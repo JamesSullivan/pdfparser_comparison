{
  "cells": [
    {
      "cell_type": "markdown",
      "metadata": {
        "id": "Tce3stUlHN0L"
      },
      "source": [
        "##### Copyright 2024 Google LLC."
      ]
    },
    {
      "cell_type": "code",
      "execution_count": null,
      "metadata": {
        "cellView": "form",
        "id": "tuOe1ymfHZPu"
      },
      "outputs": [],
      "source": [
        "#@title Licensed under the Apache License, Version 2.0 (the \"License\");\n",
        "# you may not use this file except in compliance with the License.\n",
        "# You may obtain a copy of the License at\n",
        "#\n",
        "# https://www.apache.org/licenses/LICENSE-2.0\n",
        "#\n",
        "# Unless required by applicable law or agreed to in writing, software\n",
        "# distributed under the License is distributed on an \"AS IS\" BASIS,\n",
        "# WITHOUT WARRANTIES OR CONDITIONS OF ANY KIND, either express or implied.\n",
        "# See the License for the specific language governing permissions and\n",
        "# limitations under the License."
      ]
    },
    {
      "cell_type": "markdown",
      "metadata": {
        "id": "-QhPWE1lwZHH"
      },
      "source": [
        "# Gemini API Python quickstart"
      ]
    },
    {
      "cell_type": "markdown",
      "metadata": {
        "id": "fa7c47ae6451"
      },
      "source": [
        "<table class=\"tfo-notebook-buttons\" align=\"left\">\n",
        "  <td>\n",
        "    <a target=\"_blank\" href=\"https://ai.google.dev/tutorials/quickstart_colab\"><img src=\"https://ai.google.dev/static/site-assets/images/docs/notebook-site-button.png\" height=\"32\" width=\"32\" />View on Google AI</a>\n",
        "  </td>\n",
        "  <td>\n",
        "    <a target=\"_blank\" href=\"https://colab.research.google.com/github/google/generative-ai-docs/blob/main/site/en/tutorials/quickstart_colab.ipynb\"><img src=\"https://www.tensorflow.org/images/colab_logo_32px.png\" />Run in Google Colab</a>\n",
        "  </td>\n",
        "  <td>\n",
        "    <a target=\"_blank\" href=\"https://github.com/google/generative-ai-docs/blob/main/site/en/tutorials/quickstart_colab.ipynb\"><img src=\"https://www.tensorflow.org/images/GitHub-Mark-32px.png\" />View source on GitHub</a>\n",
        "  </td>\n",
        "</table>"
      ]
    },
    {
      "cell_type": "markdown",
      "metadata": {
        "id": "db29b8d4247e"
      },
      "source": [
        "This tutorial shows you how to get started with the Gemini API using the Python SDK."
      ]
    },
    {
      "cell_type": "markdown",
      "metadata": {
        "id": "NNNg43Ymw54e"
      },
      "source": [
        "## Prerequisites\n",
        "\n",
        "You can run this tutorial in Google Colab, which doesn't require additional environment configuration.\n",
        "\n",
        "Alternatively, to complete this quickstart locally, see the Python guidance in [Get started with the Gemini API](https://ai.google.dev/tutorials/quickstart)."
      ]
    },
    {
      "cell_type": "markdown",
      "metadata": {
        "id": "kHkHARdb1ZID"
      },
      "source": [
        "## Install the SDK\n",
        "\n",
        "The Python SDK for the Gemini API is contained in the [`google-generativeai`](https://pypi.org/project/google-generativeai/) package. Install the dependency using pip:\n",
        "\n",
        "` pip install -U google-generativeai grpcio `"
      ]
    },
    {
      "cell_type": "markdown",
      "metadata": {
        "id": "EeMCtmx9ykyx"
      },
      "source": [
        "## Import the package and configure the service with your API key: \n",
        "To use the Gemini API, you'll need an API key. If you don't already have one, create a key in Google AI Studio.\n",
        "\n",
        "<a class=\"button\" href=\"https://aistudio.google.com/app/apikey\" target=\"_blank\" rel=\"noopener noreferrer\">Get an API key</a>\n",
        "\n",
        "In Colab, add the key to the secrets manager under the \"🔑\" in the left panel. Give it the name `GOOGLE_API_KEY`. Then pass the key to the SDK:"
      ]
    },
    {
      "cell_type": "code",
      "execution_count": null,
      "metadata": {
        "id": "HTiaTu6O1LRC"
      },
      "outputs": [],
      "source": [
        "import os\n",
        "import google.generativeai as genai\n",
        "\n",
        "# id using Colab\n",
        "# from google.colab import userdata\n",
        "# GOOGLE_API_KEY=userdata.get('GOOGLE_API_KEY')\n",
        "# genai.configure(api_key=GOOGLE_API_KEY)\n",
        "\n",
        "# local\n",
        "genai.configure(api_key=os.environ['GOOGLE_API_KEY'])"
      ]
    },
    {
      "cell_type": "markdown",
      "metadata": {
        "id": "CZPYk29o2No0"
      },
      "source": [
        "## Initialize the Generative Model\n",
        "\n",
        "Before you can make any API calls, you need to initialize the Generative Model."
      ]
    },
    {
      "cell_type": "code",
      "execution_count": 5,
      "metadata": {
        "id": "s-JqXcDe2hZ_"
      },
      "outputs": [],
      "source": [
        "model = genai.GenerativeModel('gemini-1.5-flash')"
      ]
    },
    {
      "cell_type": "markdown",
      "metadata": {
        "id": "nXxypzJH4MUl"
      },
      "source": [
        "## Generate text"
      ]
    },
    {
      "cell_type": "code",
      "execution_count": 9,
      "metadata": {
        "id": "j51mcrLD4Y2W",
        "outputId": "877a756d-6a9d-4389-e47b-7ebdafdf3848"
      },
      "outputs": [
        {
          "name": "stdout",
          "output_type": "stream",
          "text": [
            "|  | Three months ended June 30, | Six months ended June 30, |\n",
            "|---|---|---|\n",
            "|  | 2015 | 2014 | 2015 | 2014 |\n",
            "| Revenue (notes 5 and 6) | $ 2,231 | $ 2,458 | $ 4,476 | $ 5,105 |\n",
            "| Costs and expenses (income) |  |  |  |  |\n",
            "| Cost of sales (notes 5 and 7) | 1,689 | 1,631 | 3,397 | 3,350 |\n",
            "| General and administrative expenses | 70 | 82 | 137 | 185 |\n",
            "| Exploration, evaluation and project expenses (note 8) | 97 | 105 | 183 | 205 |\n",
            "| Impairment charges (note 10B) | 35 | 512 | 40 | 524 |\n",
            "| Loss on currency translation | 33 | 31 | 31 | 110 |\n",
            "| Closed mine rehabilitation | (19) | 27 | (11) | 49 |\n",
            "| Loss (gain) on non-hedge derivatives (note 18D) | 8 | (44) | 11 | (65) |\n",
            "| Other expense (note 10A) | 32 | 17 | 14 | 36 |\n",
            "| Income before finance items and income taxes | $ 286 | $ 97 | $ 674 | $ 711 |\n",
            "| Finance items |  |  |  |  |\n",
            "| Finance income | 2 | 3 | 4 | 6 |\n",
            "| Finance costs (note 11) | (194) | (200) | (390) | (401) |\n",
            "| Income (loss) before income taxes | $ 94 | $ (100) | $ 288 | $ 316 |\n",
            "| Income tax expense (note 12) | (103) | (123) | (208) | (412) |\n",
            "| Net income (loss) | $ (9) | $ (223) | $ 80 | $ (96) |\n",
            "| Attributable to: |  |  |  |  |\n",
            "| Equity holders of Barrick Gold Corporation | $ (9) | $ (269) | $ 48 | $ (181) |\n",
            "| Non-controlling interests (note 21) | $ - | $ 46 | $ 32 | $ 85 |\n",
            "| Earnings (loss) per share data attributable to the equity holders of Barrick Gold Corporation (note 9) |  |  |  |  |\n",
            "| Net income (loss) |  |  |  |  |\n",
            "| Basic | $ (0.01) | $ (0.23) | $ 0.04 | $ (0.16) |\n",
            "| Diluted | $ (0.01) | $ (0.23) | $ 0.04 | $ (0.16) |\n"
          ]
        }
      ],
      "source": [
        "sample_pdf = genai.upload_file(\"./OnePageOneTable.pdf\")\n",
        "response = model.generate_content([\"Extract the table from this PDF. The first line or two might be the title. The first few lines in the table might have merged cells so the table may have more columns.\", sample_pdf])\n",
        "print(response.text)"
      ]
    },
    {
      "cell_type": "markdown",
      "metadata": {},
      "source": [
        "\n",
        "\n",
        "|  | 2015 | 2014 | 2015 | 2014 |\n",
        "|---|---|---|---|---|\n",
        "| Revenue (notes 5 and 6) | $ 2,231 | $ 2,458 | $ 4,476 | $ 5,105 |\n",
        "| Costs and expenses (income) |  |  |  |  |\n",
        "| Cost of sales (notes 5 and 7) | 1,689 | 1,631 | 3,397 | 3,350 |\n",
        "| General and administrative expenses | 70 | 82 | 137 | 185 |\n",
        "| Exploration, evaluation and project expenses (note 8) | 97 | 105 | 183 | 205 |\n",
        "| Impairment charges (note 10B) | 35 | 512 | 40 | 524 |\n",
        "| Loss on currency translation | 33 | 31 | 31 | 110 |\n",
        "| Closed mine rehabilitation | (19) | 27 | (11) | 49 |\n",
        "| Loss (gain) on non-hedge derivatives (note 18D) | 8 | (44) | 11 | (65) |\n",
        "| Other expense (note 10A) | 32 | 17 | 14 | 36 |\n",
        "| Income before finance items and income taxes | $ 286 | $ 97 | $ 674 | $ 711 |\n",
        "| Finance items |  |  |  |  |\n",
        "| Finance income | 2 | 3 | 4 | 6 |\n",
        "| Finance costs (note 11) | (194) | (200) | (390) | (401) |\n",
        "| Income (loss) before income taxes | $ 94 | $ (100) | $ 288 | $ 316 |\n",
        "| Income tax expense (note 12) | (103) | (123) | (208) | (412) |\n",
        "| Net income (loss) | $ (9) | $ (223) | $ 80 | $ (96) |\n",
        "| Attributable to: |  |  |  |  |\n",
        "| Equity holders of Barrick Gold Corporation | $ (9) | $ (269) | $ 48 | $ (181) |\n",
        "| Non-controlling interests (note 21) | $ - | $ 46 | $ 32 | $ 85 |\n",
        "| Earnings (loss) per share data attributable to the equity holders of Barrick Gold Corporation (note 9) |  |  |  |  |\n",
        "| Net income (loss) |  |  |  |  |\n",
        "| Basic | $ (0.01) | $ (0.23) | $ 0.04 | $ (0.16) |\n",
        "| Diluted | $ (0.01) | $ (0.23) | $ 0.04 | $ (0.16) |"
      ]
    },
    {
      "cell_type": "code",
      "execution_count": 8,
      "metadata": {},
      "outputs": [
        {
          "name": "stdout",
          "output_type": "stream",
          "text": [
            "|  | 2023 | 2022 |\n",
            "|---|---|---|\n",
            "| Revenue (notes 5 and 6) | $11,397 | $11,013 |\n",
            "| Costs and expenses (income) |  |  |\n",
            "| Cost of sales (notes 5 and 7) | 7,932 | 7,497 |\n",
            "| General and administrative expenses (note 11) | 126 | 159 |\n",
            "| Exploration, evaluation and project expenses (notes 5 and 8) | 361 | 350 |\n",
            "| Impairment charges (notes 10 and 21) | 312 | 1,671 |\n",
            "| Loss on currency translation | 93 | 16 |\n",
            "| Closed mine rehabilitation (note 27b) | 16 | (136) |\n",
            "| Income from equity investees (note 16) | (232) | (258) |\n",
            "| Other (income) expense (note 9) | (195) | (268) |\n",
            "| Income before finance items and income taxes | 2,984 | 1,982 |\n",
            "| Finance costs, net (note 14) | (170) | (301) |\n",
            "| Income before income taxes | 2,814 | 1,681 |\n",
            "| Income tax expense (note 12) | (861) | (664) |\n",
            "| Net income | $1,953 | $1,017 |\n",
            "| Attributable to: |  |  |\n",
            "| Equity holders of Barrick Gold Corporation | $1,272 | $432 |\n",
            "| Non-controlling interests (note 32) | $681 | $585 |\n",
            "| Earnings (loss) per share data attributable to the equity holders of Barrick Gold Corporation (note 13) |  |  |\n",
            "| Net income |  |  |\n",
            "| Basic | $0.72 | $0.24 |\n",
            "| Diluted | $0.72 | $0.24 |\n"
          ]
        }
      ],
      "source": [
        "sample_pdf = genai.upload_file(\"./OnePageOneTable2023.pdf\")\n",
        "response = model.generate_content([\"Extract the table from this PDF. The first line or two might be the title. The first few lines in the table might have merged cells so the table has more rolls\", sample_pdf])\n",
        "print(response.text)"
      ]
    },
    {
      "cell_type": "markdown",
      "metadata": {},
      "source": [
        "|  | 2023 | 2022 |\n",
        "|---|---|---|\n",
        "| Revenue (notes 5 and 6) | $11,397 | $11,013 |\n",
        "| Costs and expenses (income) |  |  |\n",
        "| Cost of sales (notes 5 and 7) | 7,932 | 7,497 |\n",
        "| General and administrative expenses (note 11) | 126 | 159 |\n",
        "| Exploration, evaluation and project expenses (notes 5 and 8) | 361 | 350 |\n",
        "| Impairment charges (notes 10 and 21) | 312 | 1,671 |\n",
        "| Loss on currency translation | 93 | 16 |\n",
        "| Closed mine rehabilitation (note 27b) | 16 | (136) |\n",
        "| Income from equity investees (note 16) | (232) | (258) |\n",
        "| Other (income) expense (note 9) | (195) | (268) |\n",
        "| Income before finance items and income taxes | 2,984 | 1,982 |\n",
        "| Finance costs, net (note 14) | (170) | (301) |\n",
        "| Income before income taxes | 2,814 | 1,681 |\n",
        "| Income tax expense (note 12) | (861) | (664) |\n",
        "| Net income | $1,953 | $1,017 |\n",
        "| Attributable to: |  |  |\n",
        "| Equity holders of Barrick Gold Corporation | $1,272 | $432 |\n",
        "| Non-controlling interests (note 32) | $681 | $585 |\n",
        "| Earnings (loss) per share data attributable to the equity holders of Barrick Gold Corporation (note 13) |  |  |\n",
        "| Net income |  |  |\n",
        "| Basic | $0.72 | $0.24 |\n",
        "| Diluted | $0.72 | $0.24 |"
      ]
    },
    {
      "cell_type": "code",
      "execution_count": 17,
      "metadata": {},
      "outputs": [
        {
          "name": "stdout",
          "output_type": "stream",
          "text": [
            "|  | 2018 | 2017 |\n",
            "|---|---|---|\n",
            "| **Revenue (notes 5 and 6)** | $1,790 | $1,993 |\n",
            "| **Costs and expenses (income)** |  |  |\n",
            "| Cost of sales (notes 5 and 7) | 1,152 | 1,342 |\n",
            "| General and administrative expenses | 48 | 72 |\n",
            "| Exploration, evaluation and project expenses | 73 | 75 |\n",
            "| Impairment (reversals) charges (notes 9B and 13) | 2 | (1,125) |\n",
            "| Loss on currency translation (note 9C) | 15 | 3 |\n",
            "| Closed mine rehabilitation | (9) | 8 |\n",
            "| Income from equity investees (note 12) | (16) | (11) |\n",
            "| Gain on non-hedge derivatives | (2) | (4) |\n",
            "| Other expense (note 9A) | 1 | 2 |\n",
            "| **Income before finance costs and income taxes** | $526 | $1,631 |\n",
            "| Finance costs, net | (133) | (150) |\n",
            "| **Income before income taxes** | $393 | $1,481 |\n",
            "| Income tax expense (note 10) | (201) | (592) |\n",
            "| **Net income** | $192 | $889 |\n",
            "| **Attributable to:** |  |  |\n",
            "| Equity holders of Barrick Gold Corporation | $158 | $679 |\n",
            "| Non-controlling interests | $34 | $210 |\n",
            "| **Earnings per share data attributable to the equity holders of Barrick Gold Corporation (note 8)** |  |  |\n",
            "| **Net income** |  |  |\n",
            "| Basic | $0.14 | $0.58 |\n",
            "| Diluted | $0.14 | $0.58 |\n"
          ]
        }
      ],
      "source": [
        "sample_pdf = genai.upload_file(\"./output1.pdf\")\n",
        "response = model.generate_content([\"Extract table from this PDF as MarkDown. The first line or two might be the title. The first few lines in the table might have merged cells so the table has more rolls.\", sample_pdf])\n",
        "print(response.text)"
      ]
    },
    {
      "cell_type": "markdown",
      "metadata": {},
      "source": [
        "|  | 2018 | 2017 |\n",
        "|---|---|---|\n",
        "| **Revenue (notes 5 and 6)** | $1,790 | $1,993 |\n",
        "| **Costs and expenses (income)** |  |  |\n",
        "| Cost of sales (notes 5 and 7) | 1,152 | 1,342 |\n",
        "| General and administrative expenses | 48 | 72 |\n",
        "| Exploration, evaluation and project expenses | 73 | 75 |\n",
        "| Impairment (reversals) charges (notes 9B and 13) | 2 | (1,125) |\n",
        "| Loss on currency translation (note 9C) | 15 | 3 |\n",
        "| Closed mine rehabilitation | (9) | 8 |\n",
        "| Income from equity investees (note 12) | (16) | (11) |\n",
        "| Gain on non-hedge derivatives | (2) | (4) |\n",
        "| Other expense (note 9A) | 1 | 2 |\n",
        "| **Income before finance costs and income taxes** | $526 | $1,631 |\n",
        "| Finance costs, net | (133) | (150) |\n",
        "| **Income before income taxes** | $393 | $1,481 |\n",
        "| Income tax expense (note 10) | (201) | (592) |\n",
        "| **Net income** | $192 | $889 |\n",
        "| **Attributable to:** |  |  |\n",
        "| Equity holders of Barrick Gold Corporation | $158 | $679 |\n",
        "| Non-controlling interests | $34 | $210 |\n",
        "| **Earnings per share data attributable to the equity holders of Barrick Gold Corporation (note 8)** |  |  |\n",
        "| **Net income** |  |  |\n",
        "| Basic | $0.14 | $0.58 |\n",
        "| Diluted | $0.14 | $0.58 |\n"
      ]
    },
    {
      "cell_type": "markdown",
      "metadata": {
        "id": "zUUAQS9u4biH"
      },
      "source": [
        "## What's next\n",
        "\n",
        "To learn more about working with the Gemini API, see the [Python tutorial](https://ai.google.dev/tutorials/python_quickstart).\n",
        "\n",
        "If you're new to generative AI models, you might want to look at the\n",
        "[concepts guide](https://ai.google.dev/docs/concepts) and the\n",
        "[Gemini API overview](https://ai.google.dev/docs/gemini_api_overview)."
      ]
    }
  ],
  "metadata": {
    "colab": {
      "name": "quickstart_colab.ipynb",
      "provenance": []
    },
    "kernelspec": {
      "display_name": "myenv",
      "language": "python",
      "name": "python3"
    },
    "language_info": {
      "codemirror_mode": {
        "name": "ipython",
        "version": 3
      },
      "file_extension": ".py",
      "mimetype": "text/x-python",
      "name": "python",
      "nbconvert_exporter": "python",
      "pygments_lexer": "ipython3",
      "version": "3.12.4"
    }
  },
  "nbformat": 4,
  "nbformat_minor": 0
}
